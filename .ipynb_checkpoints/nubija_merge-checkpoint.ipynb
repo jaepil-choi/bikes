{
 "cells": [
  {
   "cell_type": "code",
   "execution_count": 3,
   "metadata": {},
   "outputs": [],
   "source": [
    "# import sklearn as sk\n",
    "import pandas as pd\n",
    "import numpy as np\n",
    "import matplotlib.pyplot as plt"
   ]
  },
  {
   "cell_type": "markdown",
   "metadata": {},
   "source": [
    "<h3>데이터 불러오기</h3>"
   ]
  },
  {
   "cell_type": "code",
   "execution_count": 35,
   "metadata": {},
   "outputs": [],
   "source": [
    "df = pd.read_csv(\"nubija_15-16.csv\", sep=',', encoding='EUC-KR')"
   ]
  },
  {
   "cell_type": "code",
   "execution_count": 7,
   "metadata": {},
   "outputs": [
    {
     "data": {
      "text/plain": [
       "'À'"
      ]
     },
     "execution_count": 7,
     "metadata": {},
     "output_type": "execute_result"
    }
   ],
   "source": [
    "chr(0xc0) # utf-8 인코딩은 오류남."
   ]
  },
  {
   "cell_type": "code",
   "execution_count": 36,
   "metadata": {},
   "outputs": [
    {
     "data": {
      "text/html": [
       "<div>\n",
       "<style scoped>\n",
       "    .dataframe tbody tr th:only-of-type {\n",
       "        vertical-align: middle;\n",
       "    }\n",
       "\n",
       "    .dataframe tbody tr th {\n",
       "        vertical-align: top;\n",
       "    }\n",
       "\n",
       "    .dataframe thead th {\n",
       "        text-align: right;\n",
       "    }\n",
       "</style>\n",
       "<table border=\"1\" class=\"dataframe\">\n",
       "  <thead>\n",
       "    <tr style=\"text-align: right;\">\n",
       "      <th></th>\n",
       "      <th>Unnamed: 0</th>\n",
       "      <th>자전거번호</th>\n",
       "      <th>출발터미널</th>\n",
       "      <th>출발일</th>\n",
       "      <th>출발시간</th>\n",
       "      <th>도착터미널</th>\n",
       "      <th>도착일</th>\n",
       "      <th>도착시간</th>\n",
       "    </tr>\n",
       "  </thead>\n",
       "  <tbody>\n",
       "    <tr>\n",
       "      <th>0</th>\n",
       "      <td>1</td>\n",
       "      <td>5322</td>\n",
       "      <td>180</td>\n",
       "      <td>20150101</td>\n",
       "      <td>0</td>\n",
       "      <td>180</td>\n",
       "      <td>20150101</td>\n",
       "      <td>19</td>\n",
       "    </tr>\n",
       "    <tr>\n",
       "      <th>1</th>\n",
       "      <td>2</td>\n",
       "      <td>6844</td>\n",
       "      <td>94</td>\n",
       "      <td>20150101</td>\n",
       "      <td>10</td>\n",
       "      <td>144</td>\n",
       "      <td>20150101</td>\n",
       "      <td>1435</td>\n",
       "    </tr>\n",
       "    <tr>\n",
       "      <th>2</th>\n",
       "      <td>3</td>\n",
       "      <td>5475</td>\n",
       "      <td>180</td>\n",
       "      <td>20150101</td>\n",
       "      <td>35</td>\n",
       "      <td>107</td>\n",
       "      <td>20150101</td>\n",
       "      <td>345</td>\n",
       "    </tr>\n",
       "    <tr>\n",
       "      <th>3</th>\n",
       "      <td>4</td>\n",
       "      <td>6347</td>\n",
       "      <td>28</td>\n",
       "      <td>20150101</td>\n",
       "      <td>36</td>\n",
       "      <td>121</td>\n",
       "      <td>20150101</td>\n",
       "      <td>91100</td>\n",
       "    </tr>\n",
       "    <tr>\n",
       "      <th>4</th>\n",
       "      <td>5</td>\n",
       "      <td>7416</td>\n",
       "      <td>9</td>\n",
       "      <td>20150101</td>\n",
       "      <td>41</td>\n",
       "      <td>60</td>\n",
       "      <td>20150101</td>\n",
       "      <td>1109</td>\n",
       "    </tr>\n",
       "  </tbody>\n",
       "</table>\n",
       "</div>"
      ],
      "text/plain": [
       "   Unnamed: 0  자전거번호  출발터미널       출발일  출발시간  도착터미널       도착일   도착시간\n",
       "0           1   5322    180  20150101     0    180  20150101     19\n",
       "1           2   6844     94  20150101    10    144  20150101   1435\n",
       "2           3   5475    180  20150101    35    107  20150101    345\n",
       "3           4   6347     28  20150101    36    121  20150101  91100\n",
       "4           5   7416      9  20150101    41     60  20150101   1109"
      ]
     },
     "execution_count": 36,
     "metadata": {},
     "output_type": "execute_result"
    }
   ],
   "source": [
    "df.head()"
   ]
  },
  {
   "cell_type": "code",
   "execution_count": 43,
   "metadata": {
    "scrolled": false
   },
   "outputs": [
    {
     "name": "stdout",
     "output_type": "stream",
     "text": [
      "<class 'pandas.core.frame.DataFrame'>\n",
      "RangeIndex: 11718608 entries, 0 to 11718607\n",
      "Data columns (total 7 columns):\n",
      "id               object\n",
      "dept_terminal    object\n",
      "dept_date        int64\n",
      "dept_time        int64\n",
      "arr_terminal     object\n",
      "arr_date         int64\n",
      "arr_time         int64\n",
      "dtypes: int64(4), object(3)\n",
      "memory usage: 625.8+ MB\n"
     ]
    }
   ],
   "source": [
    "df.info()"
   ]
  },
  {
   "cell_type": "markdown",
   "metadata": {},
   "source": [
    "<h3>'unnamed: 0' (index) 컬럼 제거하고 column명 영어로 변경</h3>"
   ]
  },
  {
   "cell_type": "code",
   "execution_count": 37,
   "metadata": {},
   "outputs": [],
   "source": [
    "df = df.drop('Unnamed: 0', axis=1)"
   ]
  },
  {
   "cell_type": "code",
   "execution_count": 38,
   "metadata": {},
   "outputs": [],
   "source": [
    "col_eng2kor = {\"자전거번호\":\"id\", \"출발터미널\":\"dept_terminal\", \"출발일\":\"dept_date\", \"출발시간\":\"dept_time\", \"도착터미널\":\"arr_terminal\", \"도착일\":\"arr_date\", \"도착시간\":\"arr_time\" }"
   ]
  },
  {
   "cell_type": "code",
   "execution_count": 39,
   "metadata": {},
   "outputs": [],
   "source": [
    "df.rename(columns=col_eng2kor, inplace=True)"
   ]
  },
  {
   "cell_type": "markdown",
   "metadata": {},
   "source": [
    "<h3>todatetime하기 전에 int64인 날짜, 시간 zero fill하고 str으로 바꿈. </h3>\n",
    "<h3>bike id와 terminal id도 str으로 바꿔줌.</h3>"
   ]
  },
  {
   "cell_type": "code",
   "execution_count": 41,
   "metadata": {
    "scrolled": true
   },
   "outputs": [
    {
     "name": "stdout",
     "output_type": "stream",
     "text": [
      "091100\n"
     ]
    },
    {
     "data": {
      "text/plain": [
       "str"
      ]
     },
     "execution_count": 41,
     "metadata": {},
     "output_type": "execute_result"
    }
   ],
   "source": [
    "print(str(91100).zfill(6))\n",
    "type(str(91100).zfill(6))"
   ]
  },
  {
   "cell_type": "code",
   "execution_count": 62,
   "metadata": {},
   "outputs": [
    {
     "data": {
      "text/html": [
       "<div>\n",
       "<style scoped>\n",
       "    .dataframe tbody tr th:only-of-type {\n",
       "        vertical-align: middle;\n",
       "    }\n",
       "\n",
       "    .dataframe tbody tr th {\n",
       "        vertical-align: top;\n",
       "    }\n",
       "\n",
       "    .dataframe thead th {\n",
       "        text-align: right;\n",
       "    }\n",
       "</style>\n",
       "<table border=\"1\" class=\"dataframe\">\n",
       "  <thead>\n",
       "    <tr style=\"text-align: right;\">\n",
       "      <th></th>\n",
       "      <th>id</th>\n",
       "      <th>dept_terminal</th>\n",
       "      <th>dept_date</th>\n",
       "      <th>dept_time</th>\n",
       "      <th>arr_terminal</th>\n",
       "      <th>arr_date</th>\n",
       "      <th>arr_time</th>\n",
       "    </tr>\n",
       "  </thead>\n",
       "  <tbody>\n",
       "    <tr>\n",
       "      <th>0</th>\n",
       "      <td>5322</td>\n",
       "      <td>180</td>\n",
       "      <td>20150101</td>\n",
       "      <td>0</td>\n",
       "      <td>180</td>\n",
       "      <td>20150101</td>\n",
       "      <td>19</td>\n",
       "    </tr>\n",
       "    <tr>\n",
       "      <th>1</th>\n",
       "      <td>6844</td>\n",
       "      <td>94</td>\n",
       "      <td>20150101</td>\n",
       "      <td>10</td>\n",
       "      <td>144</td>\n",
       "      <td>20150101</td>\n",
       "      <td>1435</td>\n",
       "    </tr>\n",
       "    <tr>\n",
       "      <th>2</th>\n",
       "      <td>5475</td>\n",
       "      <td>180</td>\n",
       "      <td>20150101</td>\n",
       "      <td>35</td>\n",
       "      <td>107</td>\n",
       "      <td>20150101</td>\n",
       "      <td>345</td>\n",
       "    </tr>\n",
       "    <tr>\n",
       "      <th>3</th>\n",
       "      <td>6347</td>\n",
       "      <td>28</td>\n",
       "      <td>20150101</td>\n",
       "      <td>36</td>\n",
       "      <td>121</td>\n",
       "      <td>20150101</td>\n",
       "      <td>91100</td>\n",
       "    </tr>\n",
       "    <tr>\n",
       "      <th>4</th>\n",
       "      <td>7416</td>\n",
       "      <td>9</td>\n",
       "      <td>20150101</td>\n",
       "      <td>41</td>\n",
       "      <td>60</td>\n",
       "      <td>20150101</td>\n",
       "      <td>1109</td>\n",
       "    </tr>\n",
       "  </tbody>\n",
       "</table>\n",
       "</div>"
      ],
      "text/plain": [
       "     id dept_terminal  dept_date  dept_time arr_terminal  arr_date  arr_time\n",
       "0  5322           180   20150101          0          180  20150101        19\n",
       "1  6844            94   20150101         10          144  20150101      1435\n",
       "2  5475           180   20150101         35          107  20150101       345\n",
       "3  6347            28   20150101         36          121  20150101     91100\n",
       "4  7416             9   20150101         41           60  20150101      1109"
      ]
     },
     "execution_count": 62,
     "metadata": {},
     "output_type": "execute_result"
    }
   ],
   "source": [
    "df.head()"
   ]
  },
  {
   "cell_type": "code",
   "execution_count": 42,
   "metadata": {},
   "outputs": [],
   "source": [
    "df[\"id\"] = df[\"id\"].astype(str)\n",
    "df[\"dept_terminal\"] = df[\"dept_terminal\"].astype(str)\n",
    "df[\"arr_terminal\"] = df[\"arr_terminal\"].astype(str)"
   ]
  },
  {
   "cell_type": "code",
   "execution_count": 58,
   "metadata": {},
   "outputs": [],
   "source": [
    "dt = df[\"dept_terminal\"].astype(str)\n",
    "dt = str(dt).zfill(6)"
   ]
  },
  {
   "cell_type": "code",
   "execution_count": 61,
   "metadata": {},
   "outputs": [
    {
     "data": {
      "text/plain": [
       "'0           180\\n1            94\\n2           180\\n3            28\\n4             9\\n5           148\\n6            21\\n7            28\\n8            11\\n9           222\\n10          136\\n11            9\\n12           57\\n13           96\\n14           48\\n15           15\\n16           61\\n17           61\\n18           58\\n19           73\\n20          164\\n21          115\\n22           73\\n23          100\\n24          133\\n25          151\\n26           35\\n27           58\\n28          255\\n29          110\\n           ... \\n11718578     99\\n11718579     93\\n11718580    122\\n11718581    151\\n11718582     71\\n11718583    163\\n11718584    197\\n11718585    173\\n11718586     80\\n11718587    163\\n11718588     70\\n11718589    163\\n11718590    200\\n11718591    200\\n11718592    124\\n11718593    135\\n11718594    284\\n11718595     96\\n11718596    173\\n11718597     93\\n11718598     40\\n11718599    284\\n11718600     42\\n11718601    154\\n11718602     42\\n11718603    125\\n11718604    199\\n11718605     21\\n11718606     21\\n11718607     22\\nName: dept_terminal, Length: 11718608, dtype: object'"
      ]
     },
     "execution_count": 61,
     "metadata": {},
     "output_type": "execute_result"
    }
   ],
   "source": [
    "dt"
   ]
  },
  {
   "cell_type": "code",
   "execution_count": 33,
   "metadata": {},
   "outputs": [],
   "source": [
    "df[\"dept_date\"] = df[\"dept_date\"].zfill(6)\n",
    "df[\"dept_time\"] = str(df[\"dept_time\"]).zfill(6)\n",
    "df[\"arr_date\"] = str(df[\"arr_date\"]).zfill(6)\n",
    "df[\"arr_time\"] = str(df[\"arr_time\"]).zfill(6)"
   ]
  },
  {
   "cell_type": "code",
   "execution_count": 34,
   "metadata": {},
   "outputs": [
    {
     "data": {
      "text/html": [
       "<div>\n",
       "<style scoped>\n",
       "    .dataframe tbody tr th:only-of-type {\n",
       "        vertical-align: middle;\n",
       "    }\n",
       "\n",
       "    .dataframe tbody tr th {\n",
       "        vertical-align: top;\n",
       "    }\n",
       "\n",
       "    .dataframe thead th {\n",
       "        text-align: right;\n",
       "    }\n",
       "</style>\n",
       "<table border=\"1\" class=\"dataframe\">\n",
       "  <thead>\n",
       "    <tr style=\"text-align: right;\">\n",
       "      <th></th>\n",
       "      <th>id</th>\n",
       "      <th>dept_terminal</th>\n",
       "      <th>dept_date</th>\n",
       "      <th>dept_time</th>\n",
       "      <th>arr_terminal</th>\n",
       "      <th>arr_date</th>\n",
       "      <th>arr_time</th>\n",
       "    </tr>\n",
       "  </thead>\n",
       "  <tbody>\n",
       "    <tr>\n",
       "      <th>0</th>\n",
       "      <td>0           5322\\n1           6844\\n2         ...</td>\n",
       "      <td>0           180\\n1            94\\n2           ...</td>\n",
       "      <td>0           0           20150101\\n1           ...</td>\n",
       "      <td>0           0                0\\n1             ...</td>\n",
       "      <td>0           180\\n1           144\\n2           ...</td>\n",
       "      <td>0           0           20150101\\n1           ...</td>\n",
       "      <td>0               19\\n1             1435\\n2     ...</td>\n",
       "    </tr>\n",
       "    <tr>\n",
       "      <th>1</th>\n",
       "      <td>0           5322\\n1           6844\\n2         ...</td>\n",
       "      <td>0           180\\n1            94\\n2           ...</td>\n",
       "      <td>0           0           20150101\\n1           ...</td>\n",
       "      <td>0           0                0\\n1             ...</td>\n",
       "      <td>0           180\\n1           144\\n2           ...</td>\n",
       "      <td>0           0           20150101\\n1           ...</td>\n",
       "      <td>0               19\\n1             1435\\n2     ...</td>\n",
       "    </tr>\n",
       "    <tr>\n",
       "      <th>2</th>\n",
       "      <td>0           5322\\n1           6844\\n2         ...</td>\n",
       "      <td>0           180\\n1            94\\n2           ...</td>\n",
       "      <td>0           0           20150101\\n1           ...</td>\n",
       "      <td>0           0                0\\n1             ...</td>\n",
       "      <td>0           180\\n1           144\\n2           ...</td>\n",
       "      <td>0           0           20150101\\n1           ...</td>\n",
       "      <td>0               19\\n1             1435\\n2     ...</td>\n",
       "    </tr>\n",
       "    <tr>\n",
       "      <th>3</th>\n",
       "      <td>0           5322\\n1           6844\\n2         ...</td>\n",
       "      <td>0           180\\n1            94\\n2           ...</td>\n",
       "      <td>0           0           20150101\\n1           ...</td>\n",
       "      <td>0           0                0\\n1             ...</td>\n",
       "      <td>0           180\\n1           144\\n2           ...</td>\n",
       "      <td>0           0           20150101\\n1           ...</td>\n",
       "      <td>0               19\\n1             1435\\n2     ...</td>\n",
       "    </tr>\n",
       "    <tr>\n",
       "      <th>4</th>\n",
       "      <td>0           5322\\n1           6844\\n2         ...</td>\n",
       "      <td>0           180\\n1            94\\n2           ...</td>\n",
       "      <td>0           0           20150101\\n1           ...</td>\n",
       "      <td>0           0                0\\n1             ...</td>\n",
       "      <td>0           180\\n1           144\\n2           ...</td>\n",
       "      <td>0           0           20150101\\n1           ...</td>\n",
       "      <td>0               19\\n1             1435\\n2     ...</td>\n",
       "    </tr>\n",
       "  </tbody>\n",
       "</table>\n",
       "</div>"
      ],
      "text/plain": [
       "                                                  id  \\\n",
       "0  0           5322\\n1           6844\\n2         ...   \n",
       "1  0           5322\\n1           6844\\n2         ...   \n",
       "2  0           5322\\n1           6844\\n2         ...   \n",
       "3  0           5322\\n1           6844\\n2         ...   \n",
       "4  0           5322\\n1           6844\\n2         ...   \n",
       "\n",
       "                                       dept_terminal  \\\n",
       "0  0           180\\n1            94\\n2           ...   \n",
       "1  0           180\\n1            94\\n2           ...   \n",
       "2  0           180\\n1            94\\n2           ...   \n",
       "3  0           180\\n1            94\\n2           ...   \n",
       "4  0           180\\n1            94\\n2           ...   \n",
       "\n",
       "                                           dept_date  \\\n",
       "0  0           0           20150101\\n1           ...   \n",
       "1  0           0           20150101\\n1           ...   \n",
       "2  0           0           20150101\\n1           ...   \n",
       "3  0           0           20150101\\n1           ...   \n",
       "4  0           0           20150101\\n1           ...   \n",
       "\n",
       "                                           dept_time  \\\n",
       "0  0           0                0\\n1             ...   \n",
       "1  0           0                0\\n1             ...   \n",
       "2  0           0                0\\n1             ...   \n",
       "3  0           0                0\\n1             ...   \n",
       "4  0           0                0\\n1             ...   \n",
       "\n",
       "                                        arr_terminal  \\\n",
       "0  0           180\\n1           144\\n2           ...   \n",
       "1  0           180\\n1           144\\n2           ...   \n",
       "2  0           180\\n1           144\\n2           ...   \n",
       "3  0           180\\n1           144\\n2           ...   \n",
       "4  0           180\\n1           144\\n2           ...   \n",
       "\n",
       "                                            arr_date  \\\n",
       "0  0           0           20150101\\n1           ...   \n",
       "1  0           0           20150101\\n1           ...   \n",
       "2  0           0           20150101\\n1           ...   \n",
       "3  0           0           20150101\\n1           ...   \n",
       "4  0           0           20150101\\n1           ...   \n",
       "\n",
       "                                            arr_time  \n",
       "0  0               19\\n1             1435\\n2     ...  \n",
       "1  0               19\\n1             1435\\n2     ...  \n",
       "2  0               19\\n1             1435\\n2     ...  \n",
       "3  0               19\\n1             1435\\n2     ...  \n",
       "4  0               19\\n1             1435\\n2     ...  "
      ]
     },
     "execution_count": 34,
     "metadata": {},
     "output_type": "execute_result"
    }
   ],
   "source": [
    "df.head()"
   ]
  },
  {
   "cell_type": "code",
   "execution_count": 63,
   "metadata": {},
   "outputs": [],
   "source": [
    "test = df[\"dept_time\"].copy(deep=True)"
   ]
  },
  {
   "cell_type": "code",
   "execution_count": 64,
   "metadata": {},
   "outputs": [
    {
     "ename": "AttributeError",
     "evalue": "'numpy.ndarray' object has no attribute 'zfill'",
     "output_type": "error",
     "traceback": [
      "\u001b[0;31m---------------------------------------------------------------------------\u001b[0m",
      "\u001b[0;31mAttributeError\u001b[0m                            Traceback (most recent call last)",
      "\u001b[0;32m<ipython-input-64-9db5dd3d72e6>\u001b[0m in \u001b[0;36m<module>\u001b[0;34m()\u001b[0m\n\u001b[0;32m----> 1\u001b[0;31m \u001b[0mtest\u001b[0m\u001b[0;34m.\u001b[0m\u001b[0mastype\u001b[0m\u001b[0;34m(\u001b[0m\u001b[0mstr\u001b[0m\u001b[0;34m)\u001b[0m\u001b[0;34m.\u001b[0m\u001b[0mvalues\u001b[0m\u001b[0;34m.\u001b[0m\u001b[0mzfill\u001b[0m\u001b[0;34m(\u001b[0m\u001b[0;36m6\u001b[0m\u001b[0;34m)\u001b[0m\u001b[0;34m\u001b[0m\u001b[0m\n\u001b[0m",
      "\u001b[0;31mAttributeError\u001b[0m: 'numpy.ndarray' object has no attribute 'zfill'"
     ]
    }
   ],
   "source": [
    "test.astype(str).values.zfill(6)"
   ]
  },
  {
   "cell_type": "code",
   "execution_count": null,
   "metadata": {},
   "outputs": [],
   "source": [
    "test"
   ]
  }
 ],
 "metadata": {
  "kernelspec": {
   "display_name": "Python 3",
   "language": "python",
   "name": "python3"
  },
  "language_info": {
   "codemirror_mode": {
    "name": "ipython",
    "version": 3
   },
   "file_extension": ".py",
   "mimetype": "text/x-python",
   "name": "python",
   "nbconvert_exporter": "python",
   "pygments_lexer": "ipython3",
   "version": "3.6.5"
  }
 },
 "nbformat": 4,
 "nbformat_minor": 1
}
